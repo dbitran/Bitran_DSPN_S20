{
 "cells": [
  {
   "cell_type": "markdown",
   "metadata": {},
   "source": [
    "# Homework 2: Data tables"
   ]
  },
  {
   "cell_type": "markdown",
   "metadata": {},
   "source": [
    "This homework assignment is designed to get you comfortable loading and working with data tables.\n",
    "\n",
    "You will need to download the **unrestricted_trimmed_1_7_2020_10_50_44.csv** file from the [_Homework/_hcp_data](https://github.com/CoAxLab/DataSciencePsychNeuro_CMU85732/tree/master/Homeworks/hcp_data) folder on the class GitHub repository. \n",
    "\n",
    "We will be using this dataset for several assignments in this course. Please download the data dictionary as well to get to konw the different variables. When you are finished, save the notebook as Homework2_DataTables.ipynb, push it to your class GitHub repository (that you made for Homework 1) and email me the link to your notebook via Canvas."
   ]
  },
  {
   "cell_type": "markdown",
   "metadata": {},
   "source": [
    "---\n",
    "1. Set up the working directory to where you downloaded the homework file and load the data table from the unrestricted_trimmed_1_7_2020_10_50_44.csv.csv file"
   ]
  },
  {
   "cell_type": "code",
   "execution_count": 1,
   "metadata": {},
   "outputs": [
    {
     "name": "stderr",
     "output_type": "stream",
     "text": [
      "── \u001b[1mAttaching packages\u001b[22m ─────────────────────────────────────── tidyverse 1.2.1 ──\n",
      "\n",
      "\u001b[32m✔\u001b[39m \u001b[34mggplot2\u001b[39m 3.2.1     \u001b[32m✔\u001b[39m \u001b[34mpurrr  \u001b[39m 0.3.2\n",
      "\u001b[32m✔\u001b[39m \u001b[34mtibble \u001b[39m 2.1.3     \u001b[32m✔\u001b[39m \u001b[34mdplyr  \u001b[39m 0.8.3\n",
      "\u001b[32m✔\u001b[39m \u001b[34mtidyr  \u001b[39m 1.0.0     \u001b[32m✔\u001b[39m \u001b[34mstringr\u001b[39m 1.4.0\n",
      "\u001b[32m✔\u001b[39m \u001b[34mreadr  \u001b[39m 1.3.1     \u001b[32m✔\u001b[39m \u001b[34mforcats\u001b[39m 0.4.0\n",
      "\n",
      "── \u001b[1mConflicts\u001b[22m ────────────────────────────────────────── tidyverse_conflicts() ──\n",
      "\u001b[31m✖\u001b[39m \u001b[34mdplyr\u001b[39m::\u001b[32mfilter()\u001b[39m masks \u001b[34mstats\u001b[39m::filter()\n",
      "\u001b[31m✖\u001b[39m \u001b[34mdplyr\u001b[39m::\u001b[32mlag()\u001b[39m    masks \u001b[34mstats\u001b[39m::lag()\n",
      "\n",
      "Parsed with column specification:\n",
      "cols(\n",
      "  .default = col_double(),\n",
      "  Release = \u001b[31mcol_character()\u001b[39m,\n",
      "  Acquisition = \u001b[31mcol_character()\u001b[39m,\n",
      "  Gender = \u001b[31mcol_character()\u001b[39m,\n",
      "  Age = \u001b[31mcol_character()\u001b[39m,\n",
      "  PSQI_BedTime = \u001b[34mcol_time(format = \"\")\u001b[39m,\n",
      "  PSQI_GetUpTime = \u001b[34mcol_time(format = \"\")\u001b[39m,\n",
      "  NEORAW_01 = \u001b[31mcol_character()\u001b[39m,\n",
      "  NEORAW_02 = \u001b[31mcol_character()\u001b[39m,\n",
      "  NEORAW_03 = \u001b[31mcol_character()\u001b[39m,\n",
      "  NEORAW_04 = \u001b[31mcol_character()\u001b[39m,\n",
      "  NEORAW_05 = \u001b[31mcol_character()\u001b[39m,\n",
      "  NEORAW_06 = \u001b[31mcol_character()\u001b[39m,\n",
      "  NEORAW_07 = \u001b[31mcol_character()\u001b[39m,\n",
      "  NEORAW_08 = \u001b[31mcol_character()\u001b[39m,\n",
      "  NEORAW_09 = \u001b[31mcol_character()\u001b[39m,\n",
      "  NEORAW_10 = \u001b[31mcol_character()\u001b[39m,\n",
      "  NEORAW_11 = \u001b[31mcol_character()\u001b[39m,\n",
      "  NEORAW_12 = \u001b[31mcol_character()\u001b[39m,\n",
      "  NEORAW_13 = \u001b[31mcol_character()\u001b[39m,\n",
      "  NEORAW_14 = \u001b[31mcol_character()\u001b[39m\n",
      "  # ... with 46 more columns\n",
      ")\n",
      "\n",
      "See spec(...) for full column specifications.\n",
      "\n"
     ]
    }
   ],
   "source": [
    "library(tidyverse)\n",
    "setwd(\"/Users/Debbie/Documents/DOCUMENTS/CLASSES/DSPAN/GitHub/Bitran_DSPN_S20/Homeworks\")\n",
    "hcpdata <- read_csv(\"unrestricted_trimmed_1_7_2020_10_50_44.csv\")"
   ]
  },
  {
   "cell_type": "markdown",
   "metadata": {},
   "source": [
    "2. Subset the data such that we are only working with two variables, the total grey matter volumne (FS_Total_GM_Vol) and the total white matter volume (FS_Tot_WM_Vol). Also filter the rows so that we are only looking at 22-25-year-olds, and remove any empty entries (i.e., \"na\"). Use the pipes operator to do this efficiently. Store the output dataset as a new variable called _d1_ and use the _print_ command to view it."
   ]
  },
  {
   "cell_type": "code",
   "execution_count": 2,
   "metadata": {},
   "outputs": [
    {
     "name": "stdout",
     "output_type": "stream",
     "text": [
      "\u001b[38;5;246m# A tibble: 231 x 5\u001b[39m\n",
      "   Subject Gender Age   FS_Total_GM_Vol FS_Tot_WM_Vol\n",
      "     \u001b[3m\u001b[38;5;246m<dbl>\u001b[39m\u001b[23m \u001b[3m\u001b[38;5;246m<chr>\u001b[39m\u001b[23m  \u001b[3m\u001b[38;5;246m<chr>\u001b[39m\u001b[23m           \u001b[3m\u001b[38;5;246m<dbl>\u001b[39m\u001b[23m         \u001b[3m\u001b[38;5;246m<dbl>\u001b[39m\u001b[23m\n",
      "\u001b[38;5;250m 1\u001b[39m  \u001b[4m1\u001b[24m\u001b[4m0\u001b[24m\u001b[4m1\u001b[24m107 M      22-25          \u001b[4m6\u001b[24m\u001b[4m6\u001b[24m\u001b[4m5\u001b[24m024        \u001b[4m4\u001b[24m\u001b[4m1\u001b[24m\u001b[4m6\u001b[24m995\n",
      "\u001b[38;5;250m 2\u001b[39m  \u001b[4m1\u001b[24m\u001b[4m0\u001b[24m\u001b[4m2\u001b[24m008 M      22-25          \u001b[4m7\u001b[24m\u001b[4m1\u001b[24m\u001b[4m7\u001b[24m215        \u001b[4m4\u001b[24m\u001b[4m5\u001b[24m\u001b[4m7\u001b[24m952\n",
      "\u001b[38;5;250m 3\u001b[39m  \u001b[4m1\u001b[24m\u001b[4m0\u001b[24m\u001b[4m2\u001b[24m614 M      22-25          \u001b[4m7\u001b[24m\u001b[4m7\u001b[24m\u001b[4m2\u001b[24m912        \u001b[4m4\u001b[24m\u001b[4m7\u001b[24m\u001b[4m8\u001b[24m479\n",
      "\u001b[38;5;250m 4\u001b[39m  \u001b[4m1\u001b[24m\u001b[4m0\u001b[24m\u001b[4m3\u001b[24m010 M      22-25          \u001b[4m7\u001b[24m\u001b[4m2\u001b[24m\u001b[4m6\u001b[24m045        \u001b[4m4\u001b[24m\u001b[4m6\u001b[24m\u001b[4m8\u001b[24m526\n",
      "\u001b[38;5;250m 5\u001b[39m  \u001b[4m1\u001b[24m\u001b[4m0\u001b[24m\u001b[4m3\u001b[24m414 F      22-25          \u001b[4m6\u001b[24m\u001b[4m2\u001b[24m\u001b[4m8\u001b[24m040        \u001b[4m3\u001b[24m\u001b[4m9\u001b[24m\u001b[4m1\u001b[24m281\n",
      "\u001b[38;5;250m 6\u001b[39m  \u001b[4m1\u001b[24m\u001b[4m0\u001b[24m\u001b[4m6\u001b[24m824 M      22-25          \u001b[4m8\u001b[24m\u001b[4m1\u001b[24m\u001b[4m3\u001b[24m927        \u001b[4m5\u001b[24m\u001b[4m2\u001b[24m\u001b[4m1\u001b[24m637\n",
      "\u001b[38;5;250m 7\u001b[39m  \u001b[4m1\u001b[24m\u001b[4m0\u001b[24m\u001b[4m7\u001b[24m321 F      22-25          \u001b[4m6\u001b[24m\u001b[4m1\u001b[24m\u001b[4m2\u001b[24m575        \u001b[4m4\u001b[24m\u001b[4m2\u001b[24m\u001b[4m2\u001b[24m417\n",
      "\u001b[38;5;250m 8\u001b[39m  \u001b[4m1\u001b[24m\u001b[4m0\u001b[24m\u001b[4m7\u001b[24m422 M      22-25          \u001b[4m7\u001b[24m\u001b[4m0\u001b[24m\u001b[4m4\u001b[24m006        \u001b[4m4\u001b[24m\u001b[4m1\u001b[24m\u001b[4m3\u001b[24m195\n",
      "\u001b[38;5;250m 9\u001b[39m  \u001b[4m1\u001b[24m\u001b[4m0\u001b[24m\u001b[4m8\u001b[24m020 M      22-25          \u001b[4m7\u001b[24m\u001b[4m5\u001b[24m\u001b[4m9\u001b[24m308        \u001b[4m4\u001b[24m\u001b[4m4\u001b[24m\u001b[4m5\u001b[24m173\n",
      "\u001b[38;5;250m10\u001b[39m  \u001b[4m1\u001b[24m\u001b[4m0\u001b[24m\u001b[4m8\u001b[24m525 M      22-25          \u001b[4m6\u001b[24m\u001b[4m7\u001b[24m\u001b[4m5\u001b[24m979        \u001b[4m4\u001b[24m\u001b[4m3\u001b[24m\u001b[4m1\u001b[24m640\n",
      "\u001b[38;5;246m# … with 221 more rows\u001b[39m\n"
     ]
    }
   ],
   "source": [
    " d1 <- hcpdata %>% \n",
    "      filter(Age == \"22-25\") %>%\n",
    "      select(Subject, Gender, Age, FS_Total_GM_Vol, FS_Tot_WM_Vol)%>%\n",
    "      na.omit()%>%\n",
    "      print()"
   ]
  },
  {
   "cell_type": "markdown",
   "metadata": {},
   "source": [
    "3. Now let's practice transforming the dataset from long format to wide format. Take the _d1_ table and reshape it such that the two brain measures (total grey matter and total white matter) are collapsed into a single column called 'BrainMeasures' and the numeric column will be called 'Volume'. Store the output data table as _d_long_"
   ]
  },
  {
   "cell_type": "code",
   "execution_count": 6,
   "metadata": {},
   "outputs": [
    {
     "name": "stdout",
     "output_type": "stream",
     "text": [
      "\u001b[38;5;246m# A tibble: 462 x 5\u001b[39m\n",
      "   Subject Gender Age   BrainMeasures   Volume\n",
      "     \u001b[3m\u001b[38;5;246m<dbl>\u001b[39m\u001b[23m \u001b[3m\u001b[38;5;246m<chr>\u001b[39m\u001b[23m  \u001b[3m\u001b[38;5;246m<chr>\u001b[39m\u001b[23m \u001b[3m\u001b[38;5;246m<chr>\u001b[39m\u001b[23m            \u001b[3m\u001b[38;5;246m<dbl>\u001b[39m\u001b[23m\n",
      "\u001b[38;5;250m 1\u001b[39m  \u001b[4m1\u001b[24m\u001b[4m0\u001b[24m\u001b[4m1\u001b[24m107 M      22-25 FS_Total_GM_Vol \u001b[4m6\u001b[24m\u001b[4m6\u001b[24m\u001b[4m5\u001b[24m024\n",
      "\u001b[38;5;250m 2\u001b[39m  \u001b[4m1\u001b[24m\u001b[4m0\u001b[24m\u001b[4m2\u001b[24m008 M      22-25 FS_Total_GM_Vol \u001b[4m7\u001b[24m\u001b[4m1\u001b[24m\u001b[4m7\u001b[24m215\n",
      "\u001b[38;5;250m 3\u001b[39m  \u001b[4m1\u001b[24m\u001b[4m0\u001b[24m\u001b[4m2\u001b[24m614 M      22-25 FS_Total_GM_Vol \u001b[4m7\u001b[24m\u001b[4m7\u001b[24m\u001b[4m2\u001b[24m912\n",
      "\u001b[38;5;250m 4\u001b[39m  \u001b[4m1\u001b[24m\u001b[4m0\u001b[24m\u001b[4m3\u001b[24m010 M      22-25 FS_Total_GM_Vol \u001b[4m7\u001b[24m\u001b[4m2\u001b[24m\u001b[4m6\u001b[24m045\n",
      "\u001b[38;5;250m 5\u001b[39m  \u001b[4m1\u001b[24m\u001b[4m0\u001b[24m\u001b[4m3\u001b[24m414 F      22-25 FS_Total_GM_Vol \u001b[4m6\u001b[24m\u001b[4m2\u001b[24m\u001b[4m8\u001b[24m040\n",
      "\u001b[38;5;250m 6\u001b[39m  \u001b[4m1\u001b[24m\u001b[4m0\u001b[24m\u001b[4m6\u001b[24m824 M      22-25 FS_Total_GM_Vol \u001b[4m8\u001b[24m\u001b[4m1\u001b[24m\u001b[4m3\u001b[24m927\n",
      "\u001b[38;5;250m 7\u001b[39m  \u001b[4m1\u001b[24m\u001b[4m0\u001b[24m\u001b[4m7\u001b[24m321 F      22-25 FS_Total_GM_Vol \u001b[4m6\u001b[24m\u001b[4m1\u001b[24m\u001b[4m2\u001b[24m575\n",
      "\u001b[38;5;250m 8\u001b[39m  \u001b[4m1\u001b[24m\u001b[4m0\u001b[24m\u001b[4m7\u001b[24m422 M      22-25 FS_Total_GM_Vol \u001b[4m7\u001b[24m\u001b[4m0\u001b[24m\u001b[4m4\u001b[24m006\n",
      "\u001b[38;5;250m 9\u001b[39m  \u001b[4m1\u001b[24m\u001b[4m0\u001b[24m\u001b[4m8\u001b[24m020 M      22-25 FS_Total_GM_Vol \u001b[4m7\u001b[24m\u001b[4m5\u001b[24m\u001b[4m9\u001b[24m308\n",
      "\u001b[38;5;250m10\u001b[39m  \u001b[4m1\u001b[24m\u001b[4m0\u001b[24m\u001b[4m8\u001b[24m525 M      22-25 FS_Total_GM_Vol \u001b[4m6\u001b[24m\u001b[4m7\u001b[24m\u001b[4m5\u001b[24m979\n",
      "\u001b[38;5;246m# … with 452 more rows\u001b[39m\n"
     ]
    }
   ],
   "source": [
    "dlong_ <- d1 %>% \n",
    "          gather(BrainMeasures, Volume, 4:5)%>%\n",
    "            print()"
   ]
  },
  {
   "cell_type": "markdown",
   "metadata": {},
   "source": [
    "4. Finally use the _d_long_ table to get summary information separately for the genders, Male and Female. For summary information, please use mean, standard deviation and n(number of observations). Again, use the pipes operator to do this efficiently. Store this output matrix as _d_sum_ and print the output."
   ]
  },
  {
   "cell_type": "code",
   "execution_count": 8,
   "metadata": {},
   "outputs": [
    {
     "name": "stdout",
     "output_type": "stream",
     "text": [
      "\u001b[38;5;246m# A tibble: 4 x 5\u001b[39m\n",
      "\u001b[38;5;246m# Groups:   Gender [2]\u001b[39m\n",
      "  Gender BrainMeasures   MeanVol  SdVol  nVol\n",
      "  \u001b[3m\u001b[38;5;246m<chr>\u001b[39m\u001b[23m  \u001b[3m\u001b[38;5;246m<chr>\u001b[39m\u001b[23m             \u001b[3m\u001b[38;5;246m<dbl>\u001b[39m\u001b[23m  \u001b[3m\u001b[38;5;246m<dbl>\u001b[39m\u001b[23m \u001b[3m\u001b[38;5;246m<int>\u001b[39m\u001b[23m\n",
      "\u001b[38;5;250m1\u001b[39m F      FS_Tot_WM_Vol   \u001b[4m4\u001b[24m\u001b[4m0\u001b[24m\u001b[4m3\u001b[24m731. \u001b[4m3\u001b[24m\u001b[4m7\u001b[24m698.    84\n",
      "\u001b[38;5;250m2\u001b[39m F      FS_Total_GM_Vol \u001b[4m6\u001b[24m\u001b[4m5\u001b[24m\u001b[4m0\u001b[24m232. \u001b[4m4\u001b[24m\u001b[4m3\u001b[24m212.    84\n",
      "\u001b[38;5;250m3\u001b[39m M      FS_Tot_WM_Vol   \u001b[4m4\u001b[24m\u001b[4m6\u001b[24m\u001b[4m8\u001b[24m143. \u001b[4m4\u001b[24m\u001b[4m7\u001b[24m730.   147\n",
      "\u001b[38;5;250m4\u001b[39m M      FS_Total_GM_Vol \u001b[4m7\u001b[24m\u001b[4m3\u001b[24m\u001b[4m8\u001b[24m851. \u001b[4m5\u001b[24m\u001b[4m5\u001b[24m673.   147\n",
      "\u001b[38;5;246m# A tibble: 2 x 4\u001b[39m\n",
      "  Gender MeanVol   SdVol  nVol\n",
      "  \u001b[3m\u001b[38;5;246m<chr>\u001b[39m\u001b[23m    \u001b[3m\u001b[38;5;246m<dbl>\u001b[39m\u001b[23m   \u001b[3m\u001b[38;5;246m<dbl>\u001b[39m\u001b[23m \u001b[3m\u001b[38;5;246m<int>\u001b[39m\u001b[23m\n",
      "\u001b[38;5;250m1\u001b[39m F      \u001b[4m5\u001b[24m\u001b[4m2\u001b[24m\u001b[4m6\u001b[24m982. \u001b[4m1\u001b[24m\u001b[4m3\u001b[24m\u001b[4m0\u001b[24m062.   168\n",
      "\u001b[38;5;250m2\u001b[39m M      \u001b[4m6\u001b[24m\u001b[4m0\u001b[24m\u001b[4m3\u001b[24m497. \u001b[4m1\u001b[24m\u001b[4m4\u001b[24m\u001b[4m5\u001b[24m130.   294\n"
     ]
    }
   ],
   "source": [
    "#Summary information by gender and brain measure type\n",
    "dsum_ <- dlong_ %>%\n",
    "          group_by(Gender, BrainMeasures)%>%        \n",
    "          summarise(MeanVol=mean(Volume),\n",
    "                    SdVol=sd(Volume),\n",
    "                    nVol=n())%>%\n",
    "          print()\n",
    "\n",
    "#OR, Overall summary information, combining across gray/white matter volumes\n",
    "\n",
    "dsum_ <- dlong_ %>%\n",
    "          group_by(Gender)%>%        \n",
    "          summarise(MeanVol=mean(Volume),\n",
    "                    SdVol=sd(Volume),\n",
    "                    nVol=n())%>%\n",
    "          print()"
   ]
  },
  {
   "cell_type": "markdown",
   "metadata": {},
   "source": [
    "**DUE:** 5pm EST, January 31, 2020"
   ]
  }
 ],
 "metadata": {
  "kernelspec": {
   "display_name": "R",
   "language": "R",
   "name": "ir"
  },
  "language_info": {
   "codemirror_mode": "r",
   "file_extension": ".r",
   "mimetype": "text/x-r-source",
   "name": "R",
   "pygments_lexer": "r",
   "version": "3.6.1"
  }
 },
 "nbformat": 4,
 "nbformat_minor": 2
}
