{
 "cells": [
  {
   "cell_type": "markdown",
   "metadata": {},
   "source": [
    "# Homework 7: \n",
    "\n",
    "**DUE:** 5pm EST, April 30, 2020"
   ]
  },
  {
   "cell_type": "markdown",
   "metadata": {},
   "source": [
    "### **Conceptual:** Short answer questions. Be concise\n",
    "\n",
    "---"
   ]
  },
  {
   "cell_type": "markdown",
   "metadata": {},
   "source": [
    "1. Suppose we produce ten bootstrapped samples from a data set containing red and green classes. We then apply a classification tree to each bootstrapped sample and, for a specific value of X, produce 10 estimates of P(Class is Red|X): 0.1, 0.15, 0.2, 0.2, 0.55, 0.6, 0.6, 0.65, 0.7, and 0.75.\n",
    "\n",
    "There are two common ways to combine these results together into a single class prediction. One is the majority vote approach discussed in class and the _ILSR_ Chapter 8. The second approach is to classify based on the average probability. What is the final classification under each of these two approaches? What does the difference in classification aggregation (if any) tell us about tree approaches?"
   ]
  },
  {
   "cell_type": "markdown",
   "metadata": {},
   "source": [
    "**Answer:**\n",
    "IN the majority approach the outcome would be red. In the average approach the outcome would be green. It tell us that the majority approach is more suscpetible to variance whereas the average approach is more susceptible to bias... i think? "
   ]
  },
  {
   "cell_type": "markdown",
   "metadata": {},
   "source": [
    "---\n",
    "2. Explain why out of bag (OOB) error provides a more reliable estimate of model test error than a more traditional hold out test set approach. "
   ]
  },
  {
   "cell_type": "markdown",
   "metadata": {},
   "source": [
    "**Answer:**\n",
    "Because you can evaluate the hold out test accuracy of all models as you generate them (it learns!)\n"
   ]
  },
  {
   "cell_type": "markdown",
   "metadata": {},
   "source": [
    "---\n",
    "\n",
    "### **Applied:** Show your code & plots\n",
    "\n",
    "We will use the HCP dataset for these problems. Include conceptual answers to questions as comments in code cells. You should use the tidyverse and class libraries for this assignment, as well as the data table for the HCP data set.\n",
    "\n",
    "You will need to have the \"tidyverse\", \"tree\" and \"randomForest\" packages installed to answer these problems.\n"
   ]
  },
  {
   "cell_type": "markdown",
   "metadata": {},
   "source": [
    "3. Use trees methods to predict unadjusted Flanker task (Flanker_Unadj) performance using a set of demographic, neural, and other cognitive factors. \n",
    "\n",
    "\n",
    "(a) Start by loading the HCP data and get a cleaned and tidy data table containing only Gender, Age, Flanker_Unadj, FS_Tot_WM_Vol, FS_Total_GM_Vol, WM_Task_Acc, ReadEng_Unadj, Language_Task_Acc, Dexterity_Unadj, PosAffect_Unadj, Relational_Task_Acc as our variables of interest."
   ]
  },
  {
   "cell_type": "code",
   "execution_count": 10,
   "metadata": {},
   "outputs": [
    {
     "name": "stderr",
     "output_type": "stream",
     "text": [
      "Parsed with column specification:\n",
      "cols(\n",
      "  .default = col_double(),\n",
      "  Release = \u001b[31mcol_character()\u001b[39m,\n",
      "  Acquisition = \u001b[31mcol_character()\u001b[39m,\n",
      "  Gender = \u001b[31mcol_character()\u001b[39m,\n",
      "  Age = \u001b[31mcol_character()\u001b[39m,\n",
      "  PSQI_BedTime = \u001b[34mcol_time(format = \"\")\u001b[39m,\n",
      "  PSQI_GetUpTime = \u001b[34mcol_time(format = \"\")\u001b[39m,\n",
      "  NEORAW_01 = \u001b[31mcol_character()\u001b[39m,\n",
      "  NEORAW_02 = \u001b[31mcol_character()\u001b[39m,\n",
      "  NEORAW_03 = \u001b[31mcol_character()\u001b[39m,\n",
      "  NEORAW_04 = \u001b[31mcol_character()\u001b[39m,\n",
      "  NEORAW_05 = \u001b[31mcol_character()\u001b[39m,\n",
      "  NEORAW_06 = \u001b[31mcol_character()\u001b[39m,\n",
      "  NEORAW_07 = \u001b[31mcol_character()\u001b[39m,\n",
      "  NEORAW_08 = \u001b[31mcol_character()\u001b[39m,\n",
      "  NEORAW_09 = \u001b[31mcol_character()\u001b[39m,\n",
      "  NEORAW_10 = \u001b[31mcol_character()\u001b[39m,\n",
      "  NEORAW_11 = \u001b[31mcol_character()\u001b[39m,\n",
      "  NEORAW_12 = \u001b[31mcol_character()\u001b[39m,\n",
      "  NEORAW_13 = \u001b[31mcol_character()\u001b[39m,\n",
      "  NEORAW_14 = \u001b[31mcol_character()\u001b[39m\n",
      "  # ... with 46 more columns\n",
      ")\n",
      "\n",
      "See spec(...) for full column specifications.\n",
      "\n"
     ]
    },
    {
     "data": {
      "text/html": [
       "<table>\n",
       "<caption>A tibble: 6 × 11</caption>\n",
       "<thead>\n",
       "\t<tr><th scope=col>Gender</th><th scope=col>Age</th><th scope=col>Flanker_Unadj</th><th scope=col>FS_Tot_WM_Vol</th><th scope=col>FS_Total_GM_Vol</th><th scope=col>WM_Task_Acc</th><th scope=col>ReadEng_Unadj</th><th scope=col>Language_Task_Acc</th><th scope=col>Dexterity_Unadj</th><th scope=col>PosAffect_Unadj</th><th scope=col>Relational_Task_Acc</th></tr>\n",
       "\t<tr><th scope=col>&lt;chr&gt;</th><th scope=col>&lt;chr&gt;</th><th scope=col>&lt;dbl&gt;</th><th scope=col>&lt;dbl&gt;</th><th scope=col>&lt;dbl&gt;</th><th scope=col>&lt;dbl&gt;</th><th scope=col>&lt;dbl&gt;</th><th scope=col>&lt;dbl&gt;</th><th scope=col>&lt;dbl&gt;</th><th scope=col>&lt;dbl&gt;</th><th scope=col>&lt;dbl&gt;</th></tr>\n",
       "</thead>\n",
       "<tbody>\n",
       "\t<tr><td>M</td><td>26-30</td><td>130.42</td><td>543134</td><td>807245</td><td>91.596</td><td>113.5460</td><td> 96.875</td><td>106.61</td><td>48.4</td><td>73.750</td></tr>\n",
       "\t<tr><td>F</td><td>26-30</td><td>112.56</td><td>407292</td><td>664124</td><td>85.425</td><td>111.0700</td><td> 80.417</td><td>118.68</td><td>46.2</td><td>96.250</td></tr>\n",
       "\t<tr><td>M</td><td>31-35</td><td>121.18</td><td>500417</td><td>726206</td><td>91.138</td><td>131.8100</td><td> 97.222</td><td>117.48</td><td>48.4</td><td>80.417</td></tr>\n",
       "\t<tr><td>M</td><td>26-30</td><td>126.53</td><td>512946</td><td>762308</td><td>96.867</td><td>141.3166</td><td>100.000</td><td>121.55</td><td>55.1</td><td>96.667</td></tr>\n",
       "\t<tr><td>F</td><td>31-35</td><td>101.85</td><td>429449</td><td>579632</td><td>73.017</td><td>113.5374</td><td> 83.611</td><td>106.53</td><td>42.0</td><td>53.333</td></tr>\n",
       "\t<tr><td>M</td><td>22-25</td><td>107.04</td><td>416995</td><td>665024</td><td>84.937</td><td>119.2434</td><td> 82.917</td><td> 98.19</td><td>59.2</td><td>54.167</td></tr>\n",
       "</tbody>\n",
       "</table>\n"
      ],
      "text/latex": [
       "A tibble: 6 × 11\n",
       "\\begin{tabular}{lllllllllll}\n",
       " Gender & Age & Flanker\\_Unadj & FS\\_Tot\\_WM\\_Vol & FS\\_Total\\_GM\\_Vol & WM\\_Task\\_Acc & ReadEng\\_Unadj & Language\\_Task\\_Acc & Dexterity\\_Unadj & PosAffect\\_Unadj & Relational\\_Task\\_Acc\\\\\n",
       " <chr> & <chr> & <dbl> & <dbl> & <dbl> & <dbl> & <dbl> & <dbl> & <dbl> & <dbl> & <dbl>\\\\\n",
       "\\hline\n",
       "\t M & 26-30 & 130.42 & 543134 & 807245 & 91.596 & 113.5460 &  96.875 & 106.61 & 48.4 & 73.750\\\\\n",
       "\t F & 26-30 & 112.56 & 407292 & 664124 & 85.425 & 111.0700 &  80.417 & 118.68 & 46.2 & 96.250\\\\\n",
       "\t M & 31-35 & 121.18 & 500417 & 726206 & 91.138 & 131.8100 &  97.222 & 117.48 & 48.4 & 80.417\\\\\n",
       "\t M & 26-30 & 126.53 & 512946 & 762308 & 96.867 & 141.3166 & 100.000 & 121.55 & 55.1 & 96.667\\\\\n",
       "\t F & 31-35 & 101.85 & 429449 & 579632 & 73.017 & 113.5374 &  83.611 & 106.53 & 42.0 & 53.333\\\\\n",
       "\t M & 22-25 & 107.04 & 416995 & 665024 & 84.937 & 119.2434 &  82.917 &  98.19 & 59.2 & 54.167\\\\\n",
       "\\end{tabular}\n"
      ],
      "text/markdown": [
       "\n",
       "A tibble: 6 × 11\n",
       "\n",
       "| Gender &lt;chr&gt; | Age &lt;chr&gt; | Flanker_Unadj &lt;dbl&gt; | FS_Tot_WM_Vol &lt;dbl&gt; | FS_Total_GM_Vol &lt;dbl&gt; | WM_Task_Acc &lt;dbl&gt; | ReadEng_Unadj &lt;dbl&gt; | Language_Task_Acc &lt;dbl&gt; | Dexterity_Unadj &lt;dbl&gt; | PosAffect_Unadj &lt;dbl&gt; | Relational_Task_Acc &lt;dbl&gt; |\n",
       "|---|---|---|---|---|---|---|---|---|---|---|\n",
       "| M | 26-30 | 130.42 | 543134 | 807245 | 91.596 | 113.5460 |  96.875 | 106.61 | 48.4 | 73.750 |\n",
       "| F | 26-30 | 112.56 | 407292 | 664124 | 85.425 | 111.0700 |  80.417 | 118.68 | 46.2 | 96.250 |\n",
       "| M | 31-35 | 121.18 | 500417 | 726206 | 91.138 | 131.8100 |  97.222 | 117.48 | 48.4 | 80.417 |\n",
       "| M | 26-30 | 126.53 | 512946 | 762308 | 96.867 | 141.3166 | 100.000 | 121.55 | 55.1 | 96.667 |\n",
       "| F | 31-35 | 101.85 | 429449 | 579632 | 73.017 | 113.5374 |  83.611 | 106.53 | 42.0 | 53.333 |\n",
       "| M | 22-25 | 107.04 | 416995 | 665024 | 84.937 | 119.2434 |  82.917 |  98.19 | 59.2 | 54.167 |\n",
       "\n"
      ],
      "text/plain": [
       "  Gender Age   Flanker_Unadj FS_Tot_WM_Vol FS_Total_GM_Vol WM_Task_Acc\n",
       "1 M      26-30 130.42        543134        807245          91.596     \n",
       "2 F      26-30 112.56        407292        664124          85.425     \n",
       "3 M      31-35 121.18        500417        726206          91.138     \n",
       "4 M      26-30 126.53        512946        762308          96.867     \n",
       "5 F      31-35 101.85        429449        579632          73.017     \n",
       "6 M      22-25 107.04        416995        665024          84.937     \n",
       "  ReadEng_Unadj Language_Task_Acc Dexterity_Unadj PosAffect_Unadj\n",
       "1 113.5460       96.875           106.61          48.4           \n",
       "2 111.0700       80.417           118.68          46.2           \n",
       "3 131.8100       97.222           117.48          48.4           \n",
       "4 141.3166      100.000           121.55          55.1           \n",
       "5 113.5374       83.611           106.53          42.0           \n",
       "6 119.2434       82.917            98.19          59.2           \n",
       "  Relational_Task_Acc\n",
       "1 73.750             \n",
       "2 96.250             \n",
       "3 80.417             \n",
       "4 96.667             \n",
       "5 53.333             \n",
       "6 54.167             "
      ]
     },
     "metadata": {},
     "output_type": "display_data"
    },
    {
     "data": {
      "text/html": [
       "<style>\n",
       ".list-inline {list-style: none; margin:0; padding: 0}\n",
       ".list-inline>li {display: inline-block}\n",
       ".list-inline>li:not(:last-child)::after {content: \"\\00b7\"; padding: 0 .5ex}\n",
       "</style>\n",
       "<ol class=list-inline><li>'Gender'</li><li>'Age'</li><li>'Flanker_Unadj'</li><li>'FS_Tot_WM_Vol'</li><li>'FS_Total_GM_Vol'</li><li>'WM_Task_Acc'</li><li>'ReadEng_Unadj'</li><li>'Language_Task_Acc'</li><li>'Dexterity_Unadj'</li><li>'PosAffect_Unadj'</li><li>'Relational_Task_Acc'</li></ol>\n"
      ],
      "text/latex": [
       "\\begin{enumerate*}\n",
       "\\item 'Gender'\n",
       "\\item 'Age'\n",
       "\\item 'Flanker\\_Unadj'\n",
       "\\item 'FS\\_Tot\\_WM\\_Vol'\n",
       "\\item 'FS\\_Total\\_GM\\_Vol'\n",
       "\\item 'WM\\_Task\\_Acc'\n",
       "\\item 'ReadEng\\_Unadj'\n",
       "\\item 'Language\\_Task\\_Acc'\n",
       "\\item 'Dexterity\\_Unadj'\n",
       "\\item 'PosAffect\\_Unadj'\n",
       "\\item 'Relational\\_Task\\_Acc'\n",
       "\\end{enumerate*}\n"
      ],
      "text/markdown": [
       "1. 'Gender'\n",
       "2. 'Age'\n",
       "3. 'Flanker_Unadj'\n",
       "4. 'FS_Tot_WM_Vol'\n",
       "5. 'FS_Total_GM_Vol'\n",
       "6. 'WM_Task_Acc'\n",
       "7. 'ReadEng_Unadj'\n",
       "8. 'Language_Task_Acc'\n",
       "9. 'Dexterity_Unadj'\n",
       "10. 'PosAffect_Unadj'\n",
       "11. 'Relational_Task_Acc'\n",
       "\n",
       "\n"
      ],
      "text/plain": [
       " [1] \"Gender\"              \"Age\"                 \"Flanker_Unadj\"      \n",
       " [4] \"FS_Tot_WM_Vol\"       \"FS_Total_GM_Vol\"     \"WM_Task_Acc\"        \n",
       " [7] \"ReadEng_Unadj\"       \"Language_Task_Acc\"   \"Dexterity_Unadj\"    \n",
       "[10] \"PosAffect_Unadj\"     \"Relational_Task_Acc\""
      ]
     },
     "metadata": {},
     "output_type": "display_data"
    },
    {
     "data": {
      "text/html": [
       "1039"
      ],
      "text/latex": [
       "1039"
      ],
      "text/markdown": [
       "1039"
      ],
      "text/plain": [
       "[1] 1039"
      ]
     },
     "metadata": {},
     "output_type": "display_data"
    }
   ],
   "source": [
    "# -------------------------------\n",
    "# Question 3\n",
    "# -------------------------------\n",
    "\n",
    "# (a)\n",
    "\n",
    "library(tidyverse)\n",
    "\n",
    "tree.data <- read_csv(\"hcp_data/unrestricted_trimmed_1_7_2020_10_50_44.csv\")%>% \n",
    "select(Gender, Age, Flanker_Unadj, FS_Tot_WM_Vol, FS_Total_GM_Vol, WM_Task_Acc, ReadEng_Unadj, \n",
    "Language_Task_Acc, Dexterity_Unadj, PosAffect_Unadj, Relational_Task_Acc)%>% na.omit()\n",
    "\n",
    "head(data)\n",
    "names(tree.data)\n",
    "nrow(tree.data)"
   ]
  },
  {
   "cell_type": "markdown",
   "metadata": {},
   "source": [
    "(b) Fit a regression tree model with Flanker_Unadj as the response variable and all others as predictor variables. Prune your tree to find the best model fit using as few terminal nodes as possible and show that the model fit improves after pruning. Plot your tree, plot tree size versues model deviance, determine the test accuracy on a hold out test set, and show a pruned model performance.\n"
   ]
  },
  {
   "cell_type": "code",
   "execution_count": 15,
   "metadata": {},
   "outputs": [
    {
     "name": "stdout",
     "output_type": "stream",
     "text": [
      "\n",
      "The downloaded binary packages are in\n",
      "\t/var/folders/pn/0ydxg3g97q9_9g179fhkgt6c0000gr/T//Rtmpy7G14D/downloaded_packages\n"
     ]
    },
    {
     "name": "stderr",
     "output_type": "stream",
     "text": [
      "Warning message in tree(Flanker_Unadj ~ Gender + Age + FS_Tot_WM_Vol + FS_Total_GM_Vol + :\n",
      "“NAs introduced by coercion”\n"
     ]
    },
    {
     "data": {
      "text/plain": [
       "\n",
       "Regression tree:\n",
       "tree(formula = Flanker_Unadj ~ Gender + Age + FS_Tot_WM_Vol + \n",
       "    FS_Total_GM_Vol + WM_Task_Acc + ReadEng_Unadj + Language_Task_Acc + \n",
       "    Dexterity_Unadj + PosAffect_Unadj + Relational_Task_Acc, \n",
       "    data = tree.data)\n",
       "Variables actually used in tree construction:\n",
       "[1] \"Relational_Task_Acc\" \"FS_Total_GM_Vol\"     \"WM_Task_Acc\"        \n",
       "Number of terminal nodes:  5 \n",
       "Residual mean deviance:  92.72 = 95870 / 1034 \n",
       "Distribution of residuals:\n",
       "    Min.  1st Qu.   Median     Mean  3rd Qu.     Max. \n",
       "-28.7800  -6.5060   0.1482   0.0000   6.6390  31.0500 "
      ]
     },
     "metadata": {},
     "output_type": "display_data"
    },
    {
     "data": {
      "text/plain": [
       "\n",
       "Regression tree:\n",
       "tree(formula = Flanker_Unadj ~ WM_Task_Acc + FS_Tot_WM_Vol + \n",
       "    Relational_Task_Acc, data = data)\n",
       "Variables actually used in tree construction:\n",
       "[1] \"Relational_Task_Acc\" \"WM_Task_Acc\"        \n",
       "Number of terminal nodes:  4 \n",
       "Residual mean deviance:  94.57 = 97880 / 1035 \n",
       "Distribution of residuals:\n",
       "    Min.  1st Qu.   Median     Mean  3rd Qu.     Max. \n",
       "-29.2700  -6.6290   0.1786   0.0000   6.2740  32.2700 "
      ]
     },
     "metadata": {},
     "output_type": "display_data"
    },
    {
     "data": {
      "text/plain": [
       "\n",
       "Regression tree:\n",
       "tree(formula = Flanker_Unadj ~ WM_Task_Acc + Relational_Task_Acc, \n",
       "    data = data)\n",
       "Number of terminal nodes:  4 \n",
       "Residual mean deviance:  94.57 = 97880 / 1035 \n",
       "Distribution of residuals:\n",
       "    Min.  1st Qu.   Median     Mean  3rd Qu.     Max. \n",
       "-29.2700  -6.6290   0.1786   0.0000   6.2740  32.2700 "
      ]
     },
     "metadata": {},
     "output_type": "display_data"
    }
   ],
   "source": [
    "# (b)\n",
    "\n",
    "install.packages(\"tree\")\n",
    "library(tree) \n",
    "\n",
    "tree.m <- tree(Flanker_Unadj  ~ Gender + Age + FS_Tot_WM_Vol +\n",
    "                      FS_Total_GM_Vol + WM_Task_Acc + ReadEng_Unadj+ \n",
    "Language_Task_Acc + Dexterity_Unadj +PosAffect_Unadj + Relational_Task_Acc, tree.data)\n",
    "\n",
    "summary(tree.m)\n",
    "\n",
    "#Ok we can probably get rid of the unused variables \n",
    "tree2.m <- tree(Flanker_Unadj  ~ WM_Task_Acc + FS_Tot_WM_Vol + Relational_Task_Acc, data)\n",
    "summary(tree2.m)\n",
    "\n",
    "#Down to two! \n",
    "tree3.m <- tree(Flanker_Unadj  ~ WM_Task_Acc  + Relational_Task_Acc, data)\n",
    "summary(tree3.m)"
   ]
  },
  {
   "cell_type": "markdown",
   "metadata": {},
   "source": [
    "4. Use the same data table to fit a classification tree with gender as the response variable and all others as predictor variables. Prune your tree and find the best model fit using as few terminal nodes as possible, and show that your model fit improves after pruning. Evaluate your model using a hold out test sample.\n"
   ]
  },
  {
   "cell_type": "code",
   "execution_count": 3,
   "metadata": {},
   "outputs": [],
   "source": [
    "# -------------------------------\n",
    "# Question 4\n",
    "# -------------------------------\n",
    "\n",
    "\n",
    "High <- as.factor(ifelse(Carseats$Sales<=8, \"No\", \"Yes\") )\n",
    "\n",
    "Carseats['High'] <- High \n",
    "\n",
    "\n"
   ]
  },
  {
   "cell_type": "code",
   "execution_count": null,
   "metadata": {},
   "outputs": [],
   "source": [
    "idx = 1:nrow(Gender)\n",
    "test=sample(idx, 100) \n",
    "tune = sample(idx[-test], 150)\n",
    "train = idx[!(idx %in% c(tune, test))] ##select indices that are not in tune\n",
    "##or test\n",
    "Carseats.tune=Carseats[tune,] #indices for test set\n",
    "Carseats.test=Carseats[test,]\n",
    "Carseats.train=Carseats[train,] \n",
    "\n",
    "High.test=High[test] #get test data\n",
    "#tree.carseats=tree(High~.-Sales, Carseats, subset=c(tune,train)) #hacked model\n",
    "print(length(c(tune,train)))\n",
    "tree.carseats=tree(High~.-Sales, Carseats, subset=tune) #tuned model\n",
    "tree.pred=predict(tree.carseats, Carseats.test, type=\"class\") #make a prediction using the test set\n",
    "#class instructs R to return the class prediction\n",
    "table(tree.pred, High.test) #compare predictions with test data"
   ]
  },
  {
   "cell_type": "markdown",
   "metadata": {},
   "source": [
    "5. Use the same data table to fit a random forest model for the classification task with m = 3 Check test accuracy and visualize feature importance for classfying gender.  "
   ]
  },
  {
   "cell_type": "code",
   "execution_count": 4,
   "metadata": {},
   "outputs": [],
   "source": [
    "# -------------------------------\n",
    "# Question 5\n",
    "# -------------------------------\n",
    "\n",
    "install.packages('randomForest')\n",
    "\n",
    "library(randomForest)\n",
    "\n"
   ]
  }
 ],
 "metadata": {
  "kernelspec": {
   "display_name": "R",
   "language": "R",
   "name": "ir"
  },
  "language_info": {
   "codemirror_mode": "r",
   "file_extension": ".r",
   "mimetype": "text/x-r-source",
   "name": "R",
   "pygments_lexer": "r",
   "version": "4.0.0"
  }
 },
 "nbformat": 4,
 "nbformat_minor": 2
}
